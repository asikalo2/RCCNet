{
  "nbformat": 4,
  "nbformat_minor": 0,
  "metadata": {
    "colab": {
      "name": "NNFinalFKT.ipynb",
      "provenance": [],
      "collapsed_sections": []
    },
    "kernelspec": {
      "display_name": "Python 3",
      "name": "python3"
    },
    "language_info": {
      "name": "python"
    }
  },
  "cells": [
    {
      "cell_type": "code",
      "metadata": {
        "id": "lq_FTQdreKu3"
      },
      "source": [
        "# importing libraries\n",
        "from keras.preprocessing.image import ImageDataGenerator\n",
        "from keras.models import Sequential\n",
        "from keras.layers import Conv2D, MaxPooling2D\n",
        "from keras.layers import Activation, Dropout, Flatten, Dense\n",
        "from keras import backend as K\n",
        "from keras import regularizers\n",
        "import tensorflow as tf\n",
        "from matplotlib import pyplot\n",
        "import pandas as pd\n",
        "from numpy import expand_dims\n",
        "from google.colab import drive\n",
        "import pathlib\n",
        "from skimage import io\n",
        "from tensorflow.keras import datasets, layers, models\n",
        "import os\n",
        "import cv2\n",
        "import numpy as np\n",
        "from  matplotlib import pyplot as plt\n",
        "from sklearn.metrics import classification_report"
      ],
      "execution_count": null,
      "outputs": []
    },
    {
      "cell_type": "code",
      "metadata": {
        "colab": {
          "base_uri": "https://localhost:8080/"
        },
        "id": "vnliRNNSOWL0",
        "outputId": "e56868eb-eada-4715-f17c-d82010046c9e"
      },
      "source": [
        "from google.colab import drive\n",
        "drive.mount('/content/drive')"
      ],
      "execution_count": null,
      "outputs": [
        {
          "output_type": "stream",
          "name": "stdout",
          "text": [
            "Mounted at /content/drive\n"
          ]
        }
      ]
    },
    {
      "cell_type": "code",
      "metadata": {
        "id": "Ythx8VgLO9Y3",
        "colab": {
          "base_uri": "https://localhost:8080/"
        },
        "outputId": "51e3953d-7924-407e-9042-aef0042613ec"
      },
      "source": [
        "!ls drive/MyDrive/'NEURAL NETWORK PROJECT'/Datasets"
      ],
      "execution_count": null,
      "outputs": [
        {
          "output_type": "stream",
          "name": "stdout",
          "text": [
            "test  train\n"
          ]
        }
      ]
    },
    {
      "cell_type": "code",
      "metadata": {
        "id": "QRtg8x2lPfDe"
      },
      "source": [
        "dataset = \"drive/MyDrive/NEURAL NETWORK PROJECT/Datasets/\"\n",
        "\n",
        "train = dataset + \"train\"\n",
        "test = dataset + \"test\""
      ],
      "execution_count": null,
      "outputs": []
    },
    {
      "cell_type": "code",
      "metadata": {
        "id": "qXqy1tNMPytE"
      },
      "source": [
        "def create_dataset(img_folder):\n",
        "   \n",
        "    img_data_array=[]\n",
        "    class_name=[]\n",
        "   \n",
        "    for dir1 in os.listdir(img_folder):\n",
        "        for file in os.listdir(os.path.join(img_folder, dir1)):\n",
        "       \n",
        "            image_path= os.path.join(img_folder, dir1,  file)\n",
        "            image= cv2.imread( image_path, cv2.COLOR_BGR2RGB)\n",
        "            # image=cv2.resize(image, (IMG_HEIGHT, IMG_WIDTH),interpolation = cv2.INTER_AREA)\n",
        "            image=np.array(image)\n",
        "            image = image.astype('float32')\n",
        "            image /= 255 \n",
        "            img_data_array.append(image)\n",
        "            class_name.append(dir1)\n",
        "    return img_data_array, class_name\n",
        "\n",
        "def convert_class(class_vec, class_names):\n",
        "    target_dict={k: v for v, k in enumerate(np.unique(class_names))}\n",
        "    target_val = [target_dict[class_vec[i]] for i in range(len(class_vec))]\n",
        "    return target_val\n",
        "\n",
        "\n",
        "train_X, class_X = create_dataset(train)\n",
        "test_X, class_Y = create_dataset(test)\n",
        "\n",
        "train_Y = convert_class(class_X, class_X)\n",
        "test_Y = convert_class(class_Y, class_X)\n",
        "\n"
      ],
      "execution_count": null,
      "outputs": []
    },
    {
      "cell_type": "code",
      "metadata": {
        "id": "g_TYbgoGQXdG",
        "colab": {
          "base_uri": "https://localhost:8080/"
        },
        "outputId": "088b481b-b151-462d-d139-bda6747f12c7"
      },
      "source": [
        "print(train_Y)\n",
        "print(test_Y)"
      ],
      "execution_count": null,
      "outputs": [
        {
          "output_type": "stream",
          "name": "stdout",
          "text": [
            "[1, 1, 1, 1, 1, 1, 1, 1, 1, 1, 1, 3, 3, 3, 3, 3, 3, 3, 3, 3, 3, 3, 0, 0, 0, 0, 0, 0, 0, 0, 0, 0, 0, 2, 2, 2, 2, 2, 2, 2, 2, 2, 2, 2]\n",
            "[2, 2, 2, 0, 0, 0, 1, 1, 1, 3, 3, 3]\n"
          ]
        }
      ]
    },
    {
      "cell_type": "code",
      "metadata": {
        "id": "rXGZxbZYRz98",
        "colab": {
          "base_uri": "https://localhost:8080/",
          "height": 256
        },
        "outputId": "dda5646e-abf5-43e5-c354-0f12e9f20e0c"
      },
      "source": [
        "plt.figure(figsize=(20,20))\n",
        "for i in range(5):\n",
        "    img = train_X[i] \n",
        "    ax = plt.subplot(1,5,i+1)\n",
        "    ax.title.set_text(\"image \" + str(i+1))\n",
        "    plt.imshow(img)"
      ],
      "execution_count": null,
      "outputs": [
        {
          "output_type": "display_data",
          "data": {
            "image/png": "[encoded data removed]",
            "text/plain": [
              "<Figure size 1440x1440 with 5 Axes>"
            ]
          },
          "metadata": {
            "needs_background": "light"
          }
        }
      ]
    },
    {
      "cell_type": "code",
      "metadata": {
        "id": "KzBpurvWoOyf",
        "colab": {
          "base_uri": "https://localhost:8080/"
        },
        "outputId": "7ab54fb6-1bc0-4786-80f7-d77fb6658a85"
      },
      "source": [
        "class RCCNet():\n",
        "    def __init__(self):\n",
        "        \"\"\"self.model = models.Sequential()\n",
        "        self.model.add(layers.Conv2D(32, (3, 3), activation='relu', input_shape=(32, 32, 3)))\n",
        "        self.model.add(layers.Conv2D(32, (3, 3), activation='relu', input_shape=(32, 32, 32)))\n",
        "        self.model.add(layers.Conv2D(32, (3, 3), activation='relu', input_shape=(30, 30, 32)))\n",
        "        self.model.add(layers.MaxPooling2D((2, 2)))\n",
        "        self.model.add(layers.Conv2D(64, (3, 3), activation='relu'))\n",
        "        self.model.add(layers.Conv2D(64, (3, 3), activation='relu'))\n",
        "        self.model.add(layers.MaxPooling2D((2, 2)))\n",
        "        self.model.add(layers.Flatten())\n",
        "        self.model.add(layers.Dense(4))\"\"\"\n",
        "        self.model = models.Sequential()\n",
        "        weight_decay = 0.0005\n",
        "        self.model.add(layers.Conv2D(96, (5, 5), input_shape=(32, 32, 3), activation='relu', kernel_regularizer=regularizers.l2(weight_decay)))\n",
        "        self.model.add(layers.BatchNormalization())\n",
        "        self.model.add(layers.Conv2D(256, (5, 5), activation='relu',kernel_regularizer=regularizers.l2(weight_decay)))\n",
        "        self.model.add(layers.BatchNormalization())\n",
        "        self.model.add(layers.MaxPooling2D(pool_size=(2, 2), name='block1_maxpooling2'))\n",
        "        self.model.add(layers.Conv2D(384, (3, 3), activation='relu', name='block1_conv3', padding='same',kernel_regularizer=regularizers.l2(weight_decay)))\n",
        "        self.model.add(layers.BatchNormalization())\n",
        "        self.model.add(layers.Conv2D(384, (3, 3), activation='relu', name='block1_conv4', padding='same',kernel_regularizer=regularizers.l2(weight_decay)))\n",
        "        self.model.add(layers.BatchNormalization())\n",
        "        self.model.add(layers.Conv2D(256, (3, 3), activation='relu', name='block1_conv5', padding='same',kernel_regularizer=regularizers.l2(weight_decay)))\n",
        "        self.model.add(layers.BatchNormalization())\n",
        "        self.model.add(layers.Dropout(0.4, name='dropout_2'))\n",
        "        self.model.add(layers.Flatten(name='flatten'))\n",
        "        self.model.add(layers.Dense(4, activation='softmax', name='predictions'))\n",
        "\n",
        "    def summary(self):\n",
        "        self.model.summary()\n",
        "    \n",
        "    def get_model(self):\n",
        "        return self.model\n",
        "\n",
        "    def train_model(self, train_X, train_Y, n_epochs=10):\n",
        "        self.model.compile(optimizer='adam',\n",
        "              loss=tf.keras.losses.SparseCategoricalCrossentropy(),\n",
        "              metrics=['accuracy'])\n",
        "\n",
        "        self.history = self.model.fit(x=np.array(train_X, np.float32), y=np.array(list(map(int,train_Y)), np.float32), epochs=n_epochs)\n",
        "        return self.history\n",
        "\n",
        "    def predict(self, test_X):\n",
        "        pred = self.model.predict(x=np.array(test_X, np.float32)) \n",
        "        pred = np.argmax(pred, axis = 1)\n",
        "        return pred\n",
        "\n",
        "\n",
        "rccnet = RCCNet()\n",
        "rccnet.summary()"
      ],
      "execution_count": null,
      "outputs": [
        {
          "output_type": "stream",
          "name": "stdout",
          "text": [
            "Model: \"sequential_3\"\n",
            "_________________________________________________________________\n",
            "Layer (type)                 Output Shape              Param #   \n",
            "=================================================================\n",
            "conv2d_6 (Conv2D)            (None, 28, 28, 96)        7296      \n",
            "_________________________________________________________________\n",
            "batch_normalization_15 (Batc (None, 28, 28, 96)        384       \n",
            "_________________________________________________________________\n",
            "conv2d_7 (Conv2D)            (None, 24, 24, 256)       614656    \n",
            "_________________________________________________________________\n",
            "batch_normalization_16 (Batc (None, 24, 24, 256)       1024      \n",
            "_________________________________________________________________\n",
            "block1_maxpooling2 (MaxPooli (None, 12, 12, 256)       0         \n",
            "_________________________________________________________________\n",
            "block1_conv3 (Conv2D)        (None, 12, 12, 384)       885120    \n",
            "_________________________________________________________________\n",
            "batch_normalization_17 (Batc (None, 12, 12, 384)       1536      \n",
            "_________________________________________________________________\n",
            "block1_conv4 (Conv2D)        (None, 12, 12, 384)       1327488   \n",
            "_________________________________________________________________\n",
            "batch_normalization_18 (Batc (None, 12, 12, 384)       1536      \n",
            "_________________________________________________________________\n",
            "block1_conv5 (Conv2D)        (None, 12, 12, 256)       884992    \n",
            "_________________________________________________________________\n",
            "batch_normalization_19 (Batc (None, 12, 12, 256)       1024      \n",
            "_________________________________________________________________\n",
            "dropout_2 (Dropout)          (None, 12, 12, 256)       0         \n",
            "_________________________________________________________________\n",
            "flatten (Flatten)            (None, 36864)             0         \n",
            "_________________________________________________________________\n",
            "predictions (Dense)          (None, 4)                 147460    \n",
            "=================================================================\n",
            "Total params: 3,872,516\n",
            "Trainable params: 3,869,764\n",
            "Non-trainable params: 2,752\n",
            "_________________________________________________________________\n"
          ]
        }
      ]
    },
    {
      "cell_type": "code",
      "metadata": {
        "colab": {
          "base_uri": "https://localhost:8080/"
        },
        "id": "EzSTqy7oqGvV",
        "outputId": "f7c1c846-c2a7-4f63-fd62-92723b8cc18e"
      },
      "source": [
        "history = rccnet.train_model(train_X, train_Y, 10)"
      ],
      "execution_count": null,
      "outputs": [
        {
          "output_type": "stream",
          "name": "stdout",
          "text": [
            "Epoch 1/10\n",
            "2/2 [==============================] - 6s 1s/step - loss: 3.5070 - accuracy: 0.3182\n",
            "Epoch 2/10\n",
            "2/2 [==============================] - 5s 1s/step - loss: 3.5433 - accuracy: 0.6364\n",
            "Epoch 3/10\n",
            "2/2 [==============================] - 5s 1s/step - loss: 2.7663 - accuracy: 0.7500\n",
            "Epoch 4/10\n",
            "2/2 [==============================] - 5s 1s/step - loss: 1.6782 - accuracy: 0.7727\n",
            "Epoch 5/10\n",
            "2/2 [==============================] - 5s 1s/step - loss: 0.9712 - accuracy: 0.9318\n",
            "Epoch 6/10\n",
            "2/2 [==============================] - 5s 1s/step - loss: 1.0459 - accuracy: 0.8636\n",
            "Epoch 7/10\n",
            "2/2 [==============================] - 5s 1s/step - loss: 0.8083 - accuracy: 0.8864\n",
            "Epoch 8/10\n",
            "2/2 [==============================] - 5s 1s/step - loss: 1.0712 - accuracy: 0.8864\n",
            "Epoch 9/10\n",
            "2/2 [==============================] - 5s 1s/step - loss: 0.6087 - accuracy: 1.0000\n",
            "Epoch 10/10\n",
            "2/2 [==============================] - 5s 1s/step - loss: 1.2708 - accuracy: 0.8636\n"
          ]
        }
      ]
    },
    {
      "cell_type": "code",
      "metadata": {
        "colab": {
          "base_uri": "https://localhost:8080/",
          "height": 302
        },
        "id": "KLNYuqSHqJK1",
        "outputId": "20f4e5df-1585-4d86-b318-c0ca13d6c0f8"
      },
      "source": [
        "plt.plot(history.history['accuracy'], label='train accuracy')\n",
        "#plt.plot(history.history['val_accuracy'], label = 'val_accuracy')\n",
        "plt.xlabel('Epoch')\n",
        "plt.ylabel('Train Accuracy')\n",
        "plt.ylim([0, 1])\n",
        "plt.legend(loc='lower right')\n",
        "\n",
        "#test_loss, test_acc = model.evaluate(test_X,  test_Y, verbose=2)"
      ],
      "execution_count": null,
      "outputs": [
        {
          "output_type": "execute_result",
          "data": {
            "text/plain": [
              "<matplotlib.legend.Legend at 0x7f0af410a710>"
            ]
          },
          "metadata": {},
          "execution_count": 16
        },
        {
          "output_type": "display_data",
          "data": {
            "image/png": "[encoded data removed]",
            "text/plain": [
              "<Figure size 432x288 with 1 Axes>"
            ]
          },
          "metadata": {
            "needs_background": "light"
          }
        }
      ]
    },
    {
      "cell_type": "code",
      "metadata": {
        "colab": {
          "base_uri": "https://localhost:8080/"
        },
        "id": "3Fzbv40QAho9",
        "outputId": "5b8edc50-6763-4555-cffc-515a17e9e8ba"
      },
      "source": [
        "pred = rccnet.predict(np.array(test_X, np.float32)) \n",
        "print(pred)\n",
        "print(test_Y)\n",
        "report = classification_report(test_Y, pred)\n",
        "print(report)"
      ],
      "execution_count": null,
      "outputs": [
        {
          "output_type": "stream",
          "name": "stdout",
          "text": [
            "[2 2 2 2 2 2 2 2 2 2 2 2]\n",
            "[2, 2, 2, 0, 0, 0, 1, 1, 1, 3, 3, 3]\n",
            "              precision    recall  f1-score   support\n",
            "\n",
            "           0       0.00      0.00      0.00         3\n",
            "           1       0.00      0.00      0.00         3\n",
            "           2       0.25      1.00      0.40         3\n",
            "           3       0.00      0.00      0.00         3\n",
            "\n",
            "    accuracy                           0.25        12\n",
            "   macro avg       0.06      0.25      0.10        12\n",
            "weighted avg       0.06      0.25      0.10        12\n",
            "\n"
          ]
        },
        {
          "output_type": "stream",
          "name": "stderr",
          "text": [
            "/usr/local/lib/python3.7/dist-packages/sklearn/metrics/_classification.py:1272: UndefinedMetricWarning: Precision and F-score are ill-defined and being set to 0.0 in labels with no predicted samples. Use `zero_division` parameter to control this behavior.\n",
            "  _warn_prf(average, modifier, msg_start, len(result))\n"
          ]
        }
      ]
    },
    {
      "cell_type": "markdown",
      "metadata": {
        "id": "yfzovo-iAja2"
      },
      "source": [
        "# Training with Data Augmentation"
      ]
    },
    {
      "cell_type": "code",
      "metadata": {
        "id": "sAnl2LikAtrz"
      },
      "source": [
        "from copy import deepcopy\n",
        "\n",
        "aug_train_X = deepcopy(train_X)\n",
        "aug_train_Y = deepcopy(train_Y)"
      ],
      "execution_count": null,
      "outputs": []
    },
    {
      "cell_type": "code",
      "metadata": {
        "id": "sAwVtrzoC16m"
      },
      "source": [
        "for k in range(len(train_X)):\n",
        "  samples = expand_dims(train_X[k], 0)\n",
        "  # create image data augmentation generator\n",
        "  datagen = ImageDataGenerator(width_shift_range=[-5,5])\n",
        "  # prepare iterator\n",
        "  it = datagen.flow(samples, batch_size=1)\n",
        "  # generate samples and plot\n",
        "  for i in range(9):\n",
        "      # define subplot\n",
        "      #pyplot.subplot(330 + 1 + i)\n",
        "\t  # generate batch of images\n",
        "      batch = it.next()\n",
        "      # convert to unsigned integers for viewing\n",
        "      image = batch[0].astype('float32')\n",
        "      aug_train_X.append(image)\n",
        "      aug_train_Y.append(train_Y[k])\n",
        "\t    #plot raw pixel data\n",
        "      #pyplot.imshow(image)\n",
        "      #show the figure\n",
        "  #pyplot.show()"
      ],
      "execution_count": null,
      "outputs": []
    },
    {
      "cell_type": "code",
      "metadata": {
        "id": "3JG2j1sSK0yf"
      },
      "source": [
        "for k in range(len(train_X)):\n",
        "  samples = expand_dims(train_X[k], 0)\n",
        "  # create image data augmentation generator\n",
        "  datagen = ImageDataGenerator(height_shift_range=0.5)\n",
        "  # prepare iterator\n",
        "  it = datagen.flow(samples, batch_size=1)\n",
        "  # generate samples and plot\n",
        "  for i in range(9):\n",
        "      # define subplot\n",
        "      #pyplot.subplot(330 + 1 + i)\n",
        "\t  # generate batch of images\n",
        "      batch = it.next()\n",
        "      # convert to unsigned integers for viewing\n",
        "      image = batch[0].astype('float32')\n",
        "      aug_train_X.append(image)\n",
        "      aug_train_Y.append(train_Y[k])\n",
        "\t  # plot raw pixel data\n",
        "      #pyplot.imshow(image)\n",
        "      #show the figure\n",
        "  #pyplot.show()"
      ],
      "execution_count": null,
      "outputs": []
    },
    {
      "cell_type": "code",
      "metadata": {
        "id": "IQmaVJVeLD4U"
      },
      "source": [
        "for k in range(len(train_X)):\n",
        "  samples = expand_dims(train_X[k], 0)\n",
        "  # create image data augmentation generator\n",
        "  datagen = ImageDataGenerator(horizontal_flip=True)\n",
        "  # prepare iterator\n",
        "  it = datagen.flow(samples, batch_size=1)\n",
        "  # generate samples and plot\n",
        "  for i in range(9):\n",
        "      # define subplot\n",
        "      #pyplot.subplot(330 + 1 + i)\n",
        "\t  # generate batch of images\n",
        "      batch = it.next()\n",
        "      # convert to unsigned integers for viewing\n",
        "      image = batch[0].astype('float32')\n",
        "      aug_train_X.append(image)\n",
        "      aug_train_Y.append(train_Y[k])\n",
        "\t  # plot raw pixel data\n",
        "      #pyplot.imshow(image)\n",
        "      #show the figure\n",
        "  #pyplot.show()"
      ],
      "execution_count": null,
      "outputs": []
    },
    {
      "cell_type": "code",
      "metadata": {
        "id": "tL4uZxuZLM39"
      },
      "source": [
        "for k in range(len(train_X)):\n",
        "  samples = expand_dims(train_X[k], 0)\n",
        "  # create image data augmentation generator\n",
        "  datagen = ImageDataGenerator(rotation_range=90)\n",
        "  # prepare iterator\n",
        "  it = datagen.flow(samples, batch_size=1)\n",
        "  # generate samples and plot\n",
        "  for i in range(9):\n",
        "      # define subplot\n",
        "      #pyplot.subplot(330 + 1 + i)\n",
        "\t  # generate batch of images\n",
        "      batch = it.next()\n",
        "      # convert to unsigned integers for viewing\n",
        "      image = batch[0].astype('float32')\n",
        "      aug_train_X.append(image)\n",
        "      aug_train_Y.append(train_Y[k])\n",
        "\t  # plot raw pixel data\n",
        "      #pyplot.imshow(image)\n",
        "      #show the figure\n",
        "  #pyplot.show()"
      ],
      "execution_count": null,
      "outputs": []
    },
    {
      "cell_type": "code",
      "metadata": {
        "id": "16Tp2SYOLPvv"
      },
      "source": [
        "for j in range(len(train_X)):\n",
        "  samples = expand_dims(train_X[j], 0)\n",
        "  datagen = ImageDataGenerator(brightness_range=[0.2,1.0])\n",
        "  it = datagen.flow(samples, batch_size=1)\n",
        "  for i in range(9):\n",
        "      # define subplot\n",
        "      #pyplot.subplot(330 + 1 + i)\n",
        "\t  # generate batch of images\n",
        "      batch = it.next()\n",
        "      image = batch[0].astype('uint8')\n",
        "      aug_train_X.append(image)\n",
        "      aug_train_Y.append(train_Y[k])\n",
        "      #pyplot.imshow(image)\n",
        "      #show the figure\n",
        "  #pyplot.show()"
      ],
      "execution_count": null,
      "outputs": []
    },
    {
      "cell_type": "code",
      "metadata": {
        "id": "Ex8Q07PQLWLJ"
      },
      "source": [
        "for k in range(len(train_X)):\n",
        "  samples = expand_dims(train_X[k], 0)\n",
        "  # create image data augmentation generator\n",
        "  datagen = ImageDataGenerator(zoom_range=[0.5,1.0])\n",
        "  # prepare iterator\n",
        "  it = datagen.flow(samples, batch_size=1)\n",
        "  # generate samples and plot\n",
        "  for i in range(9):\n",
        "      # define subplot\n",
        "      #pyplot.subplot(330 + 1 + i)\n",
        "\t  # generate batch of images\n",
        "      batch = it.next()\n",
        "      # convert to unsigned integers for viewing\n",
        "      image = batch[0].astype('float32')\n",
        "      aug_train_X.append(image)\n",
        "      aug_train_Y.append(train_Y[k])\n",
        "\t  # plot raw pixel data\n",
        "      #pyplot.imshow(image)\n",
        "      #show the figure\n",
        "  #pyplot.show()"
      ],
      "execution_count": null,
      "outputs": []
    },
    {
      "cell_type": "code",
      "metadata": {
        "colab": {
          "base_uri": "https://localhost:8080/"
        },
        "id": "FGRR3Q1PC_jm",
        "outputId": "5c822c7a-06ab-4864-8663-de9b820301cc"
      },
      "source": [
        "augmented_rccnet = RCCNet()\n",
        "augmented_rccnet.summary()"
      ],
      "execution_count": null,
      "outputs": [
        {
          "output_type": "stream",
          "name": "stdout",
          "text": [
            "Model: \"sequential_4\"\n",
            "_________________________________________________________________\n",
            "Layer (type)                 Output Shape              Param #   \n",
            "=================================================================\n",
            "conv2d_8 (Conv2D)            (None, 28, 28, 96)        7296      \n",
            "_________________________________________________________________\n",
            "batch_normalization_20 (Batc (None, 28, 28, 96)        384       \n",
            "_________________________________________________________________\n",
            "conv2d_9 (Conv2D)            (None, 24, 24, 256)       614656    \n",
            "_________________________________________________________________\n",
            "batch_normalization_21 (Batc (None, 24, 24, 256)       1024      \n",
            "_________________________________________________________________\n",
            "block1_maxpooling2 (MaxPooli (None, 12, 12, 256)       0         \n",
            "_________________________________________________________________\n",
            "block1_conv3 (Conv2D)        (None, 12, 12, 384)       885120    \n",
            "_________________________________________________________________\n",
            "batch_normalization_22 (Batc (None, 12, 12, 384)       1536      \n",
            "_________________________________________________________________\n",
            "block1_conv4 (Conv2D)        (None, 12, 12, 384)       1327488   \n",
            "_________________________________________________________________\n",
            "batch_normalization_23 (Batc (None, 12, 12, 384)       1536      \n",
            "_________________________________________________________________\n",
            "block1_conv5 (Conv2D)        (None, 12, 12, 256)       884992    \n",
            "_________________________________________________________________\n",
            "batch_normalization_24 (Batc (None, 12, 12, 256)       1024      \n",
            "_________________________________________________________________\n",
            "dropout_2 (Dropout)          (None, 12, 12, 256)       0         \n",
            "_________________________________________________________________\n",
            "flatten (Flatten)            (None, 36864)             0         \n",
            "_________________________________________________________________\n",
            "predictions (Dense)          (None, 4)                 147460    \n",
            "=================================================================\n",
            "Total params: 3,872,516\n",
            "Trainable params: 3,869,764\n",
            "Non-trainable params: 2,752\n",
            "_________________________________________________________________\n"
          ]
        }
      ]
    },
    {
      "cell_type": "code",
      "metadata": {
        "colab": {
          "base_uri": "https://localhost:8080/"
        },
        "id": "w0hlBQG5DGda",
        "outputId": "0090def6-2f96-4d85-dc0c-b8ca307c3c69"
      },
      "source": [
        "history2 = augmented_rccnet.train_model(aug_train_X, aug_train_Y, 10)"
      ],
      "execution_count": null,
      "outputs": [
        {
          "output_type": "stream",
          "name": "stdout",
          "text": [
            "Epoch 1/10\n",
            "78/78 [==============================] - 263s 3s/step - loss: 3.6272 - accuracy: 0.4057\n",
            "Epoch 2/10\n",
            "78/78 [==============================] - 262s 3s/step - loss: 1.8520 - accuracy: 0.4904\n",
            "Epoch 3/10\n",
            "78/78 [==============================] - 263s 3s/step - loss: 1.7895 - accuracy: 0.5008\n",
            "Epoch 4/10\n",
            "78/78 [==============================] - 262s 3s/step - loss: 1.8597 - accuracy: 0.5241\n",
            "Epoch 5/10\n",
            "78/78 [==============================] - 262s 3s/step - loss: 1.8450 - accuracy: 0.5140\n",
            "Epoch 6/10\n",
            "78/78 [==============================] - 263s 3s/step - loss: 1.6270 - accuracy: 0.5646\n",
            "Epoch 7/10\n",
            "78/78 [==============================] - 263s 3s/step - loss: 1.4997 - accuracy: 0.6124\n",
            "Epoch 8/10\n",
            "78/78 [==============================] - 262s 3s/step - loss: 1.6973 - accuracy: 0.5518\n",
            "Epoch 9/10\n",
            "78/78 [==============================] - 261s 3s/step - loss: 1.4339 - accuracy: 0.6188\n",
            "Epoch 10/10\n",
            "78/78 [==============================] - 263s 3s/step - loss: 1.3962 - accuracy: 0.6224\n"
          ]
        }
      ]
    },
    {
      "cell_type": "code",
      "metadata": {
        "colab": {
          "base_uri": "https://localhost:8080/"
        },
        "id": "R2OAIr3qEGvF",
        "outputId": "786f308d-e825-4e1f-b8a3-e79d3a48089e"
      },
      "source": [
        "pred2 = augmented_rccnet.predict(np.array(test_X, np.float32)) \n",
        "print(pred2)\n",
        "print(test_Y)\n",
        "report2 = classification_report(test_Y, pred2)\n",
        "print(report2)"
      ],
      "execution_count": null,
      "outputs": [
        {
          "output_type": "stream",
          "name": "stdout",
          "text": [
            "[0 0 0 0 0 0 0 0 0 2 0 2]\n",
            "[2, 2, 2, 0, 0, 0, 1, 1, 1, 3, 3, 3]\n",
            "              precision    recall  f1-score   support\n",
            "\n",
            "           0       0.30      1.00      0.46         3\n",
            "           1       0.00      0.00      0.00         3\n",
            "           2       0.00      0.00      0.00         3\n",
            "           3       0.00      0.00      0.00         3\n",
            "\n",
            "    accuracy                           0.25        12\n",
            "   macro avg       0.07      0.25      0.12        12\n",
            "weighted avg       0.07      0.25      0.12        12\n",
            "\n"
          ]
        },
        {
          "output_type": "stream",
          "name": "stderr",
          "text": [
            "/usr/local/lib/python3.7/dist-packages/sklearn/metrics/_classification.py:1272: UndefinedMetricWarning: Precision and F-score are ill-defined and being set to 0.0 in labels with no predicted samples. Use `zero_division` parameter to control this behavior.\n",
            "  _warn_prf(average, modifier, msg_start, len(result))\n"
          ]
        }
      ]
    }
  ]
}